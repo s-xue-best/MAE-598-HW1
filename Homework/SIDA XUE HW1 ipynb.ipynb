{
 "cells": [
  {
   "cell_type": "code",
   "execution_count": 3,
   "id": "e074bc95",
   "metadata": {},
   "outputs": [
    {
     "name": "stdout",
     "output_type": "stream",
     "text": [
      "     fun: 4.09302325588931\n",
      "     jac: array([-2.04579037, -0.18800253, -2.2337929 , -2.23186433, -1.48855239])\n",
      " message: 'Optimization terminated successfully'\n",
      "    nfev: 44\n",
      "     nit: 7\n",
      "    njev: 7\n",
      "  status: 0\n",
      " success: True\n",
      "       x: array([-0.76743912,  0.25581304,  0.62791188, -0.1162858 ,  0.25581304])\n"
     ]
    }
   ],
   "source": [
    "import numpy as np\n",
    "from scipy.optimize import minimize\n",
    "##function and constraint \n",
    "objective_function = lambda x: (x[0]-x[1])**2 +(x[1]+x[2]-2)**2+(x[3]-1)**2+(x[4]-1)**2\n",
    "constraint1 = lambda x :x[0]+3*x[1]\n",
    "constraint2 = lambda x :x[2]+x[3]-2*x[4]\n",
    "constraint3 = lambda x :x[1]-x[4]\n",
    "constraints =[{'type':'eq','fun':constraint1},{'type':'eq','fun':constraint2},\n",
    "             {'type':'eq','fun':constraint3}]\n",
    "\n",
    "x0=[1,2,3,4,5] ## initial input\n",
    "b=(-10,10)  ## variable bounds\n",
    "bounds=[b,b,b,b,b]\n",
    "##bounds=((-10,10),(-10,10),(-10,10),(-10,10),(-10,10))\n",
    "\n",
    "result= minimize(objective_function,x0,method='SLSQP', bounds = bounds , constraints=constraints)\n",
    "print(result)\n"
   ]
  },
  {
   "cell_type": "markdown",
   "id": "c06e03c8",
   "metadata": {},
   "source": [
    "The initial guass is set to be (1,2,3,4,5)\n"
   ]
  },
  {
   "cell_type": "code",
   "execution_count": 5,
   "id": "e55ccf6c",
   "metadata": {},
   "outputs": [
    {
     "name": "stdout",
     "output_type": "stream",
     "text": [
      "     fun: 4.09302325588931\n",
      "     jac: array([-2.04579037, -0.18800253, -2.2337929 , -2.23186433, -1.48855239])\n",
      " message: 'Optimization terminated successfully'\n",
      "    nfev: 44\n",
      "     nit: 7\n",
      "    njev: 7\n",
      "  status: 0\n",
      " success: True\n",
      "       x: array([-0.76743912,  0.25581304,  0.62791188, -0.1162858 ,  0.25581304])\n"
     ]
    }
   ],
   "source": [
    "import numpy as np\n",
    "from scipy.optimize import minimize\n",
    "##function and constraint \n",
    "objective_function = lambda x: (x[0]-x[1])**2 +(x[1]+x[2]-2)**2+(x[3]-1)**2+(x[4]-1)**2\n",
    "constraint1 = lambda x :x[0]+3*x[1]\n",
    "constraint2 = lambda x :x[2]+x[3]-2*x[4]\n",
    "constraint3 = lambda x :x[1]-x[4]\n",
    "cons =[{'type':'eq','fun':constraint1},{'type':'eq','fun':constraint2},{'type':'eq','fun':constraint3}]\n",
    "\n",
    "x0=[1,2,3,4,5] ## initial input\n",
    "##b=(-10,10)  ## variable bounds\n",
    "##bounds=[b,b,b,b,b]\n",
    "bounds=[(-10,10),(-10,10),(-10,10),(-10,10),(-10,10)]\n",
    "\n",
    "result= minimize(objective_function,x0,method='SLSQP', bounds = bounds , constraints=cons)\n",
    "print(result)\n",
    "\n"
   ]
  }
 ],
 "metadata": {
  "kernelspec": {
   "display_name": "Python 3",
   "language": "python",
   "name": "python3"
  },
  "language_info": {
   "codemirror_mode": {
    "name": "ipython",
    "version": 3
   },
   "file_extension": ".py",
   "mimetype": "text/x-python",
   "name": "python",
   "nbconvert_exporter": "python",
   "pygments_lexer": "ipython3",
   "version": "3.8.8"
  }
 },
 "nbformat": 4,
 "nbformat_minor": 5
}
