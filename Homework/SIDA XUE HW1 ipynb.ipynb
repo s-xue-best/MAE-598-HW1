{
 "cells": [
  {
   "cell_type": "markdown",
   "id": "c06e03c8",
   "metadata": {},
   "source": [
    "The initial guess is set to be [1,2,3,4,5] first, and then change the 5th elements of initial guess. After running several cases with different initial guesses,the minimum of the objective function is the same. It shows that\n",
    "we reach a global minimum.\n"
   ]
  },
  {
   "cell_type": "code",
   "execution_count": 29,
   "id": "e074bc95",
   "metadata": {},
   "outputs": [
    {
     "name": "stdout",
     "output_type": "stream",
     "text": [
      "     fun: 4.093023255813955\n",
      "     jac: array([-2.04651159, -0.18604642, -2.23255807, -2.23255813, -1.48837209])\n",
      " message: 'Optimization terminated successfully'\n",
      "    nfev: 26\n",
      "     nit: 4\n",
      "    njev: 4\n",
      "  status: 0\n",
      " success: True\n",
      "       x: array([-0.76744186,  0.25581395,  0.62790698, -0.11627907,  0.25581395])\n",
      "When the 5th elements of initial guess is -10 the minimum objective function value we find is 4.093023255813955\n",
      "When the 5th elements of initial guess is -9 the minimum objective function value we find is 4.0930232558139545\n",
      "When the 5th elements of initial guess is -8 the minimum objective function value we find is 4.093023255813951\n",
      "When the 5th elements of initial guess is -7 the minimum objective function value we find is 4.093023317486933\n",
      "When the 5th elements of initial guess is -6 the minimum objective function value we find is 4.093023255816244\n",
      "When the 5th elements of initial guess is -5 the minimum objective function value we find is 4.0930232560650595\n",
      "When the 5th elements of initial guess is -4 the minimum objective function value we find is 4.093023261963524\n",
      "When the 5th elements of initial guess is -3 the minimum objective function value we find is 4.093023321636826\n",
      "When the 5th elements of initial guess is -2 the minimum objective function value we find is 4.093023287827268\n",
      "When the 5th elements of initial guess is -1 the minimum objective function value we find is 4.093023288395995\n",
      "When the 5th elements of initial guess is 0 the minimum objective function value we find is 4.093023313108912\n",
      "When the 5th elements of initial guess is 1 the minimum objective function value we find is 4.093023379590909\n",
      "When the 5th elements of initial guess is 2 the minimum objective function value we find is 4.093023472103976\n",
      "When the 5th elements of initial guess is 3 the minimum objective function value we find is 4.093023565107985\n",
      "When the 5th elements of initial guess is 4 the minimum objective function value we find is 4.09302369133629\n",
      "When the 5th elements of initial guess is 5 the minimum objective function value we find is 4.09302325588931\n",
      "When the 5th elements of initial guess is 6 the minimum objective function value we find is 4.093023255911077\n",
      "When the 5th elements of initial guess is 7 the minimum objective function value we find is 4.093023255928415\n",
      "When the 5th elements of initial guess is 8 the minimum objective function value we find is 4.09302325593708\n",
      "When the 5th elements of initial guess is 9 the minimum objective function value we find is 4.093023255933288\n",
      "When the 5th elements of initial guess is 10 the minimum objective function value we find is 4.09302345872417\n"
     ]
    }
   ],
   "source": [
    "import numpy as np\n",
    "from scipy.optimize import minimize\n",
    "##function and constraint \n",
    "objective_function = lambda x: (x[0]-x[1])**2 +(x[1]+x[2]-2)**2+(x[3]-1)**2+(x[4]-1)**2\n",
    "constraint1 = lambda x :x[0]+3*x[1]\n",
    "constraint2 = lambda x :x[2]+x[3]-2*x[4]\n",
    "constraint3 = lambda x :x[1]-x[4]\n",
    "constraints =[{'type':'eq','fun':constraint1},{'type':'eq','fun':constraint2},\n",
    "             {'type':'eq','fun':constraint3}]\n",
    "\n",
    "x0=[1,2,3,4,-10] ## initial input, later we set the x0[4] to be different values\n",
    "b=(-10,10)  ## variable bounds\n",
    "bounds=[b,b,b,b,b]\n",
    "##bounds=((-10,10),(-10,10),(-10,10),(-10,10),(-10,10))\n",
    "\n",
    "##see the result for one spepcific initial guess\n",
    "result= minimize(objective_function,x0,method='SLSQP', bounds = bounds , constraints=constraints)\n",
    "print(result)\n",
    " ## get minimum function value with different initial values \n",
    "while x0[4]<11: \n",
    "    result= minimize(objective_function,x0,method='SLSQP', bounds = bounds , constraints=constraints)\n",
    "    print('When the 5th elements of initial guess is',x0[4],'the minimum objective function value we find is',result.fun)\n",
    "    x0[4]+=1\n"
   ]
  }
 ],
 "metadata": {
  "kernelspec": {
   "display_name": "Python 3",
   "language": "python",
   "name": "python3"
  },
  "language_info": {
   "codemirror_mode": {
    "name": "ipython",
    "version": 3
   },
   "file_extension": ".py",
   "mimetype": "text/x-python",
   "name": "python",
   "nbconvert_exporter": "python",
   "pygments_lexer": "ipython3",
   "version": "3.8.8"
  }
 },
 "nbformat": 4,
 "nbformat_minor": 5
}
